{
 "cells": [
  {
   "cell_type": "code",
   "execution_count": 1,
   "metadata": {},
   "outputs": [
    {
     "data": {
      "application/javascript": "IPython.notebook.set_autosave_interval(300000)"
     },
     "metadata": {},
     "output_type": "display_data"
    },
    {
     "name": "stdout",
     "output_type": "stream",
     "text": [
      "Autosaving every 300 seconds\n"
     ]
    }
   ],
   "source": [
    "%autosave 300\n",
    "%load_ext autoreload\n",
    "%autoreload 2\n",
    "%reload_ext autoreload\n",
    "%config Completer.use_jedi = False"
   ]
  },
  {
   "cell_type": "code",
   "execution_count": 2,
   "metadata": {},
   "outputs": [
    {
     "name": "stdout",
     "output_type": "stream",
     "text": [
      "/mnt/batch/tasks/shared/LS_root/mounts/clusters/copilot-model-run/code/Users/Soutrik.Chowdhury/datasource_hackathon\n"
     ]
    }
   ],
   "source": [
    "\n",
    "import os\n",
    "os.chdir(\"..\")\n",
    "print(os.getcwd())"
   ]
  },
  {
   "cell_type": "code",
   "execution_count": 3,
   "metadata": {},
   "outputs": [],
   "source": [
    "import pandas as pd\n",
    "import numpy as np\n",
    "pd.set_option('display.max_columns', None)\n",
    "pd.set_option('display.max_rows', None)\n",
    "import matplotlib.pyplot as plt\n",
    "import seaborn as sns"
   ]
  },
  {
   "cell_type": "code",
   "execution_count": 4,
   "metadata": {},
   "outputs": [],
   "source": [
    "data_folder = \"data\"\n",
    "price_data = pd.read_csv(f\"{data_folder}/Phase 0 - Price.csv\")\n",
    "sales_data = pd.read_csv(f\"{data_folder}/Phase 0 - Sales.csv\")\n",
    "inventory_data = pd.read_csv(f\"{data_folder}/Phase 0 - Inventory.csv\")"
   ]
  },
  {
   "cell_type": "code",
   "execution_count": 5,
   "metadata": {},
   "outputs": [],
   "source": [
    "# Let's merge the three datasets (price, sales, inventory) on common columns: 'Client', 'Warehouse', and 'Product'\n",
    "# These columns are shared across the datasets, and we can merge them based on this common information.\n",
    "\n",
    "# First, we need to reshape the data from wide format (with date columns) to long format for easier merging\n",
    "price_data_melted = price_data.melt(id_vars=['Client', 'Warehouse', 'Product'], var_name='Date', value_name='Price')\n",
    "sales_data_melted = sales_data.melt(id_vars=['Client', 'Warehouse', 'Product'], var_name='Date', value_name='Sales')\n",
    "inventory_data_melted = inventory_data.melt(id_vars=['Client', 'Warehouse', 'Product'], var_name='Date', value_name='Inventory')\n",
    "\n",
    "# Merge the datasets on 'Client', 'Warehouse', 'Product', and 'Date'\n",
    "merged_data = pd.merge(price_data_melted, sales_data_melted, on=['Client', 'Warehouse', 'Product', 'Date'], how='outer')\n",
    "merged_data = pd.merge(merged_data, inventory_data_melted, on=['Client', 'Warehouse', 'Product', 'Date'], how='outer')\n",
    "\n",
    "# Convert 'Date' to datetime for easier time-based analysis\n",
    "merged_data['Date'] = pd.to_datetime(merged_data['Date'])\n"
   ]
  },
  {
   "cell_type": "code",
   "execution_count": 6,
   "metadata": {},
   "outputs": [],
   "source": [
    "merged_data = merged_data.sort_values(by=['Client', 'Warehouse', 'Product', 'Date'])"
   ]
  },
  {
   "cell_type": "code",
   "execution_count": 7,
   "metadata": {},
   "outputs": [
    {
     "data": {
      "text/html": [
       "<div>\n",
       "<style scoped>\n",
       "    .dataframe tbody tr th:only-of-type {\n",
       "        vertical-align: middle;\n",
       "    }\n",
       "\n",
       "    .dataframe tbody tr th {\n",
       "        vertical-align: top;\n",
       "    }\n",
       "\n",
       "    .dataframe thead th {\n",
       "        text-align: right;\n",
       "    }\n",
       "</style>\n",
       "<table border=\"1\" class=\"dataframe\">\n",
       "  <thead>\n",
       "    <tr style=\"text-align: right;\">\n",
       "      <th></th>\n",
       "      <th>Client</th>\n",
       "      <th>Warehouse</th>\n",
       "      <th>Product</th>\n",
       "      <th>Date</th>\n",
       "      <th>Price</th>\n",
       "      <th>Sales</th>\n",
       "      <th>Inventory</th>\n",
       "    </tr>\n",
       "  </thead>\n",
       "  <tbody>\n",
       "    <tr>\n",
       "      <th>0</th>\n",
       "      <td>0</td>\n",
       "      <td>1</td>\n",
       "      <td>367</td>\n",
       "      <td>2020-07-06</td>\n",
       "      <td>10.900001</td>\n",
       "      <td>7.0</td>\n",
       "      <td>0.0</td>\n",
       "    </tr>\n",
       "    <tr>\n",
       "      <th>1</th>\n",
       "      <td>0</td>\n",
       "      <td>1</td>\n",
       "      <td>367</td>\n",
       "      <td>2020-07-13</td>\n",
       "      <td>10.900001</td>\n",
       "      <td>7.0</td>\n",
       "      <td>0.0</td>\n",
       "    </tr>\n",
       "    <tr>\n",
       "      <th>2</th>\n",
       "      <td>0</td>\n",
       "      <td>1</td>\n",
       "      <td>367</td>\n",
       "      <td>2020-07-20</td>\n",
       "      <td>10.900001</td>\n",
       "      <td>7.0</td>\n",
       "      <td>0.0</td>\n",
       "    </tr>\n",
       "    <tr>\n",
       "      <th>3</th>\n",
       "      <td>0</td>\n",
       "      <td>1</td>\n",
       "      <td>367</td>\n",
       "      <td>2020-07-27</td>\n",
       "      <td>15.582857</td>\n",
       "      <td>7.0</td>\n",
       "      <td>0.0</td>\n",
       "    </tr>\n",
       "    <tr>\n",
       "      <th>4</th>\n",
       "      <td>0</td>\n",
       "      <td>1</td>\n",
       "      <td>367</td>\n",
       "      <td>2020-08-03</td>\n",
       "      <td>27.289999</td>\n",
       "      <td>7.0</td>\n",
       "      <td>0.0</td>\n",
       "    </tr>\n",
       "  </tbody>\n",
       "</table>\n",
       "</div>"
      ],
      "text/plain": [
       "   Client  Warehouse  Product       Date      Price  Sales  Inventory\n",
       "0       0          1      367 2020-07-06  10.900001    7.0        0.0\n",
       "1       0          1      367 2020-07-13  10.900001    7.0        0.0\n",
       "2       0          1      367 2020-07-20  10.900001    7.0        0.0\n",
       "3       0          1      367 2020-07-27  15.582857    7.0        0.0\n",
       "4       0          1      367 2020-08-03  27.289999    7.0        0.0"
      ]
     },
     "execution_count": 7,
     "metadata": {},
     "output_type": "execute_result"
    }
   ],
   "source": [
    "merged_data.head()"
   ]
  },
  {
   "cell_type": "code",
   "execution_count": 8,
   "metadata": {},
   "outputs": [],
   "source": [
    "merged_data = merged_data.drop(columns=['Client'],axis=1)"
   ]
  },
  {
   "cell_type": "code",
   "execution_count": 9,
   "metadata": {},
   "outputs": [],
   "source": [
    "merged_data[\"id\"] = (\n",
    "    merged_data[\"Warehouse\"].astype(\"str\") + \"_\" + merged_data[\"Product\"].astype(\"str\")\n",
    ")"
   ]
  },
  {
   "cell_type": "code",
   "execution_count": 10,
   "metadata": {},
   "outputs": [],
   "source": [
    "merged_data = merged_data.groupby([\"id\", \"Date\"], as_index=False).agg(\n",
    "    {\"Price\": \"mean\", \"Sales\": \"sum\", \"Inventory\": \"sum\"}\n",
    ")"
   ]
  },
  {
   "cell_type": "code",
   "execution_count": 11,
   "metadata": {},
   "outputs": [],
   "source": [
    "merged_data.sort_values(by=[\"id\", \"Date\"], inplace=True)"
   ]
  },
  {
   "cell_type": "code",
   "execution_count": 12,
   "metadata": {},
   "outputs": [],
   "source": [
    "id_mindt_df = (\n",
    "    merged_data.loc[merged_data[\"Price\"].notnull()]\n",
    "    .groupby(\"id\", as_index=False)[\"Date\"]\n",
    "    .min()\n",
    ")"
   ]
  },
  {
   "cell_type": "code",
   "execution_count": 13,
   "metadata": {},
   "outputs": [],
   "source": [
    "id_mindt_df = id_mindt_df.rename(columns={\"Date\": \"MinDate\"})"
   ]
  },
  {
   "cell_type": "code",
   "execution_count": 14,
   "metadata": {},
   "outputs": [
    {
     "data": {
      "text/html": [
       "<div>\n",
       "<style scoped>\n",
       "    .dataframe tbody tr th:only-of-type {\n",
       "        vertical-align: middle;\n",
       "    }\n",
       "\n",
       "    .dataframe tbody tr th {\n",
       "        vertical-align: top;\n",
       "    }\n",
       "\n",
       "    .dataframe thead th {\n",
       "        text-align: right;\n",
       "    }\n",
       "</style>\n",
       "<table border=\"1\" class=\"dataframe\">\n",
       "  <thead>\n",
       "    <tr style=\"text-align: right;\">\n",
       "      <th></th>\n",
       "      <th>id</th>\n",
       "      <th>MinDate</th>\n",
       "    </tr>\n",
       "  </thead>\n",
       "  <tbody>\n",
       "    <tr>\n",
       "      <th>0</th>\n",
       "      <td>0_10052</td>\n",
       "      <td>2022-06-20</td>\n",
       "    </tr>\n",
       "    <tr>\n",
       "      <th>1</th>\n",
       "      <td>0_10097</td>\n",
       "      <td>2022-11-21</td>\n",
       "    </tr>\n",
       "    <tr>\n",
       "      <th>2</th>\n",
       "      <td>0_10357</td>\n",
       "      <td>2023-09-25</td>\n",
       "    </tr>\n",
       "    <tr>\n",
       "      <th>3</th>\n",
       "      <td>0_10645</td>\n",
       "      <td>2023-05-01</td>\n",
       "    </tr>\n",
       "    <tr>\n",
       "      <th>4</th>\n",
       "      <td>0_10921</td>\n",
       "      <td>2022-06-20</td>\n",
       "    </tr>\n",
       "  </tbody>\n",
       "</table>\n",
       "</div>"
      ],
      "text/plain": [
       "        id    MinDate\n",
       "0  0_10052 2022-06-20\n",
       "1  0_10097 2022-11-21\n",
       "2  0_10357 2023-09-25\n",
       "3  0_10645 2023-05-01\n",
       "4  0_10921 2022-06-20"
      ]
     },
     "execution_count": 14,
     "metadata": {},
     "output_type": "execute_result"
    }
   ],
   "source": [
    "id_mindt_df.head()"
   ]
  },
  {
   "cell_type": "code",
   "execution_count": 22,
   "metadata": {},
   "outputs": [],
   "source": [
    "merged_data_new = pd.merge(merged_data, id_mindt_df, on=[\"id\"], how=\"left\")"
   ]
  },
  {
   "cell_type": "code",
   "execution_count": 23,
   "metadata": {},
   "outputs": [
    {
     "data": {
      "text/plain": [
       "(2559010, 6)"
      ]
     },
     "execution_count": 23,
     "metadata": {},
     "output_type": "execute_result"
    }
   ],
   "source": [
    "merged_data_new.shape"
   ]
  },
  {
   "cell_type": "code",
   "execution_count": 24,
   "metadata": {},
   "outputs": [
    {
     "name": "stdout",
     "output_type": "stream",
     "text": [
      "(1419748, 6)\n"
     ]
    }
   ],
   "source": [
    "merged_data_new = merged_data_new.loc[merged_data_new[\"Date\"] >= merged_data_new[\"MinDate\"]].reset_index(drop=True)\n",
    "print(merged_data_new.shape)"
   ]
  },
  {
   "cell_type": "markdown",
   "metadata": {},
   "source": [
    "#### id-Date min"
   ]
  },
  {
   "cell_type": "code",
   "execution_count": 25,
   "metadata": {},
   "outputs": [],
   "source": [
    "combo_df = merged_data_new.groupby(\"id\", as_index=False).agg({\"Date\": [\"min\", \"max\", \"nunique\"]})"
   ]
  },
  {
   "cell_type": "code",
   "execution_count": 26,
   "metadata": {},
   "outputs": [],
   "source": [
    "# ravel the hierarchical columns into a single level\n",
    "combo_df.columns = [\"_\".join(x) for x in combo_df.columns.ravel()]"
   ]
  },
  {
   "cell_type": "code",
   "execution_count": 27,
   "metadata": {},
   "outputs": [
    {
     "data": {
      "text/html": [
       "<div>\n",
       "<style scoped>\n",
       "    .dataframe tbody tr th:only-of-type {\n",
       "        vertical-align: middle;\n",
       "    }\n",
       "\n",
       "    .dataframe tbody tr th {\n",
       "        vertical-align: top;\n",
       "    }\n",
       "\n",
       "    .dataframe thead th {\n",
       "        text-align: right;\n",
       "    }\n",
       "</style>\n",
       "<table border=\"1\" class=\"dataframe\">\n",
       "  <thead>\n",
       "    <tr style=\"text-align: right;\">\n",
       "      <th></th>\n",
       "      <th>id_</th>\n",
       "      <th>Date_min</th>\n",
       "      <th>Date_max</th>\n",
       "      <th>Date_nunique</th>\n",
       "    </tr>\n",
       "  </thead>\n",
       "  <tbody>\n",
       "    <tr>\n",
       "      <th>0</th>\n",
       "      <td>0_10052</td>\n",
       "      <td>2022-06-20</td>\n",
       "      <td>2023-10-02</td>\n",
       "      <td>68</td>\n",
       "    </tr>\n",
       "    <tr>\n",
       "      <th>1</th>\n",
       "      <td>0_10097</td>\n",
       "      <td>2022-11-21</td>\n",
       "      <td>2023-10-02</td>\n",
       "      <td>46</td>\n",
       "    </tr>\n",
       "    <tr>\n",
       "      <th>2</th>\n",
       "      <td>0_10357</td>\n",
       "      <td>2023-09-25</td>\n",
       "      <td>2023-10-02</td>\n",
       "      <td>2</td>\n",
       "    </tr>\n",
       "    <tr>\n",
       "      <th>3</th>\n",
       "      <td>0_10645</td>\n",
       "      <td>2023-05-01</td>\n",
       "      <td>2023-10-02</td>\n",
       "      <td>23</td>\n",
       "    </tr>\n",
       "    <tr>\n",
       "      <th>4</th>\n",
       "      <td>0_10921</td>\n",
       "      <td>2022-06-20</td>\n",
       "      <td>2023-10-02</td>\n",
       "      <td>68</td>\n",
       "    </tr>\n",
       "  </tbody>\n",
       "</table>\n",
       "</div>"
      ],
      "text/plain": [
       "       id_   Date_min   Date_max  Date_nunique\n",
       "0  0_10052 2022-06-20 2023-10-02            68\n",
       "1  0_10097 2022-11-21 2023-10-02            46\n",
       "2  0_10357 2023-09-25 2023-10-02             2\n",
       "3  0_10645 2023-05-01 2023-10-02            23\n",
       "4  0_10921 2022-06-20 2023-10-02            68"
      ]
     },
     "execution_count": 27,
     "metadata": {},
     "output_type": "execute_result"
    }
   ],
   "source": [
    "combo_df.head()"
   ]
  },
  {
   "cell_type": "code",
   "execution_count": 28,
   "metadata": {},
   "outputs": [],
   "source": [
    "merged_data_new = merged_data_new.sort_values(by=[\"id\", \"Date\"]).reset_index(drop=True)"
   ]
  },
  {
   "cell_type": "code",
   "execution_count": 30,
   "metadata": {},
   "outputs": [
    {
     "data": {
      "text/html": [
       "<div>\n",
       "<style scoped>\n",
       "    .dataframe tbody tr th:only-of-type {\n",
       "        vertical-align: middle;\n",
       "    }\n",
       "\n",
       "    .dataframe tbody tr th {\n",
       "        vertical-align: top;\n",
       "    }\n",
       "\n",
       "    .dataframe thead th {\n",
       "        text-align: right;\n",
       "    }\n",
       "</style>\n",
       "<table border=\"1\" class=\"dataframe\">\n",
       "  <thead>\n",
       "    <tr style=\"text-align: right;\">\n",
       "      <th></th>\n",
       "      <th>id</th>\n",
       "      <th>Date</th>\n",
       "      <th>Price</th>\n",
       "      <th>Sales</th>\n",
       "      <th>Inventory</th>\n",
       "      <th>MinDate</th>\n",
       "    </tr>\n",
       "  </thead>\n",
       "  <tbody>\n",
       "    <tr>\n",
       "      <th>0</th>\n",
       "      <td>0_10052</td>\n",
       "      <td>2022-06-20</td>\n",
       "      <td>97.00500</td>\n",
       "      <td>2.0</td>\n",
       "      <td>0.0</td>\n",
       "      <td>2022-06-20</td>\n",
       "    </tr>\n",
       "    <tr>\n",
       "      <th>1</th>\n",
       "      <td>0_10052</td>\n",
       "      <td>2022-06-27</td>\n",
       "      <td>95.69333</td>\n",
       "      <td>3.0</td>\n",
       "      <td>0.0</td>\n",
       "      <td>2022-06-20</td>\n",
       "    </tr>\n",
       "    <tr>\n",
       "      <th>2</th>\n",
       "      <td>0_10052</td>\n",
       "      <td>2022-07-04</td>\n",
       "      <td>95.43000</td>\n",
       "      <td>2.0</td>\n",
       "      <td>0.0</td>\n",
       "      <td>2022-06-20</td>\n",
       "    </tr>\n",
       "    <tr>\n",
       "      <th>3</th>\n",
       "      <td>0_10052</td>\n",
       "      <td>2022-07-11</td>\n",
       "      <td>94.33000</td>\n",
       "      <td>4.0</td>\n",
       "      <td>0.0</td>\n",
       "      <td>2022-06-20</td>\n",
       "    </tr>\n",
       "    <tr>\n",
       "      <th>4</th>\n",
       "      <td>0_10052</td>\n",
       "      <td>2022-07-18</td>\n",
       "      <td>62.98167</td>\n",
       "      <td>6.0</td>\n",
       "      <td>0.0</td>\n",
       "      <td>2022-06-20</td>\n",
       "    </tr>\n",
       "  </tbody>\n",
       "</table>\n",
       "</div>"
      ],
      "text/plain": [
       "        id       Date     Price  Sales  Inventory    MinDate\n",
       "0  0_10052 2022-06-20  97.00500    2.0        0.0 2022-06-20\n",
       "1  0_10052 2022-06-27  95.69333    3.0        0.0 2022-06-20\n",
       "2  0_10052 2022-07-04  95.43000    2.0        0.0 2022-06-20\n",
       "3  0_10052 2022-07-11  94.33000    4.0        0.0 2022-06-20\n",
       "4  0_10052 2022-07-18  62.98167    6.0        0.0 2022-06-20"
      ]
     },
     "execution_count": 30,
     "metadata": {},
     "output_type": "execute_result"
    }
   ],
   "source": [
    "merged_data_new.head()"
   ]
  },
  {
   "cell_type": "code",
   "execution_count": null,
   "metadata": {},
   "outputs": [],
   "source": [
    "## Next Steps: ID level (warehouse + product)\n",
    "# 1. Id level make the data continous weekly - every id should have all the weeks starting from the min date to max date\n",
    "# 2. Fill missing values with 0/mean (Price , sales , inventory)\n",
    "# 3. For every id we have to add 13 weeks of artificial index\n",
    "# 4. For inventory we need to have some different approach to be used with markers columns\n",
    "# 5. For price and sales have lag and rolling mean features starting from 13 weeks target\n",
    "# 6. Seperate out the combinations which have less than 52 weeks of data - A set will be go for regression model and B set will go recursive modelling\n",
    "\n"
   ]
  },
  {
   "cell_type": "code",
   "execution_count": null,
   "metadata": {},
   "outputs": [],
   "source": []
  },
  {
   "cell_type": "code",
   "execution_count": null,
   "metadata": {},
   "outputs": [],
   "source": []
  },
  {
   "cell_type": "code",
   "execution_count": null,
   "metadata": {},
   "outputs": [],
   "source": []
  }
 ],
 "metadata": {
  "kernelspec": {
   "display_name": "torch_env",
   "language": "python",
   "name": "python3"
  },
  "language_info": {
   "codemirror_mode": {
    "name": "ipython",
    "version": 3
   },
   "file_extension": ".py",
   "mimetype": "text/x-python",
   "name": "python",
   "nbconvert_exporter": "python",
   "pygments_lexer": "ipython3",
   "version": "3.10.14"
  }
 },
 "nbformat": 4,
 "nbformat_minor": 2
}
